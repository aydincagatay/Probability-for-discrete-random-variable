{
  "nbformat": 4,
  "nbformat_minor": 0,
  "metadata": {
    "colab": {
      "name": "Copy of Untitled4.ipynb",
      "provenance": [],
      "collapsed_sections": [],
      "toc_visible": true,
      "authorship_tag": "ABX9TyPxtFcKOLNSqaBxEvyGIY4x",
      "include_colab_link": true
    },
    "kernelspec": {
      "name": "python3",
      "display_name": "Python 3"
    }
  },
  "cells": [
    {
      "cell_type": "markdown",
      "metadata": {
        "id": "view-in-github",
        "colab_type": "text"
      },
      "source": [
        "<a href=\"https://colab.research.google.com/github/aydincagatay/Probability-for-discrete-random-variable/blob/master/Kombinasyon%20ve%20Kar%C5%9F%C4%B1la%C5%9Fma%20Problemi.ipynb\" target=\"_parent\"><img src=\"https://colab.research.google.com/assets/colab-badge.svg\" alt=\"Open In Colab\"/></a>"
      ]
    },
    {
      "cell_type": "markdown",
      "metadata": {
        "id": "ziqL5xiyNTzR",
        "colab_type": "text"
      },
      "source": [
        "# **Kombinasyon ve Karşılaşma Problemi**\n",
        "\n",
        "**Kombinasyon**, bir nesne grubu içerisinden, sıra gözetmeksizin yapılan seçimlerdir. Örnek olarak mavi, sarı ve kırmızı topların bulunduğu torbadan çekilen topların seçilmesi olayının kaç farklı şekilde olabileceğinin hesaplanması kombinasyon ile hesaplanır.\n",
        "\n",
        "**Kombinasyonun formülü**\n",
        "\n",
        "kombinasyon.png\n",
        "\n",
        "Ayrıca kombinasyonu pythonda yazalım ve ilgi çekici bir karşılaşma problemini çözelim."
      ]
    },
    {
      "cell_type": "markdown",
      "metadata": {
        "id": "MQifzCLIO2k2",
        "colab_type": "text"
      },
      "source": [
        "# **Soru:**\n",
        "\n",
        "# Evlendiğimiz kişinin, evlenmek istediğimiz kişi olmasının olasılığı ne olabilir ?\n",
        "\n",
        "\n",
        "# **Çözüm:**\n",
        "Aslında başta uyarmam gereken birkaç durum var. \n",
        "\n",
        "*   Evlenmek istediğiniz kişi sayısı 1'den fazla ise bu bizim hesaplayacağımız olasılıktan daha yüksek çıkacaktır. Çünkü belli başlı kuralları kabul ettiğimiz zaman ortaya çıkan sonucu sizinle paylaşıyorum. Bu örneğin sorusuna ruh eşinizi bulma olasılığı da diyebilirsiniz.\n",
        "*   Her kişi ile karşılaşma için eşit şans verilmektedir.\n",
        "*   Bir insanın ömründe ortalama 80.000 insan ile karşılaştığını varsayalım.\n",
        "*   Türkiye'de bulunan nüfus için değerlendirme yapalım. Türkiye nüfusunda örnekteki insanın ömrü boyunca aynı nüfus oranında olduğunu, kadın-erkek sayısının eşit ve ikisinin toplamının 80.000.000 olduğunu varsayalım. Yaş ile ilgili ise herkesin reşit yaşta olduğunu varsayalım.\n",
        "\n",
        "Eğer tüm durumlardan, bir insanın ömrü boyunca tanıştığı kişilerin dışında kalan nüfusun kombinasyonunun, tüm nüfusta karşılaşılanların nüfusunun kombinasyonunun 1'den çıkarılımı bir insanın evlendiği kişinin hayatındaki evlenmek istediği kişi olma olasılığının sonucunu verecektir.\n",
        "\n",
        "Bu durumda belirlenmesi gerekenler şunlardır;\n",
        "\n",
        "1.   Olay uzayı : Bu insanın ömrü boyunca tanıştığı kişilerin dışında kalan nüfusun seçilmesi\n",
        "2.   Örnek uzay :Tüm nüfustan karşılaşılanların nüfusunun seçilmesi\n",
        "\n",
        "Değişkenlerimizi tanımlamak gerekirse;\n",
        "\n",
        "\n",
        "*   P (Toplam nüfus) = 40.000.000 // Kadın-Erkek olarak ayrıldı\n",
        "*   S (Toplam evlenilecek kişi sayısı) = 1\n",
        "*   F (Bir insanın ömrü boyunca tanıştığı kişi sayısı) = 80.000\n",
        "\n",
        "Şimdi kodlamaya geçelim.\n",
        "\n"
      ]
    },
    {
      "cell_type": "code",
      "metadata": {
        "id": "SFgy39SuVkXH",
        "colab_type": "code",
        "colab": {}
      },
      "source": [
        "import math\n",
        "P = 40000000\n",
        "S = 1\n",
        "F = 80000"
      ],
      "execution_count": 0,
      "outputs": []
    },
    {
      "cell_type": "code",
      "metadata": {
        "id": "v88nUugYV4Y3",
        "colab_type": "code",
        "colab": {}
      },
      "source": [
        "def faktoriyelHesapla(i):\n",
        "    \n",
        "    if i==1:       \n",
        "        return 1\n",
        "    \n",
        "    else: \n",
        "        return i * faktoriyelHesapla(i-1)"
      ],
      "execution_count": 0,
      "outputs": []
    },
    {
      "cell_type": "code",
      "metadata": {
        "id": "aDEJYIArV7ES",
        "colab_type": "code",
        "colab": {}
      },
      "source": [
        "def kombinasyonHesapla(n,r):\n",
        "    \n",
        "    if r==0 or n == r:       \n",
        "        return 1\n",
        "    else: \n",
        "        return faktoriyelHesapla(n) / (faktoriyelHesapla(n - r) * faktoriyelHesapla(r))"
      ],
      "execution_count": 0,
      "outputs": []
    },
    {
      "cell_type": "code",
      "metadata": {
        "id": "dBg0mt9VW9Xm",
        "colab_type": "code",
        "colab": {}
      },
      "source": [
        "def karsilasmaProblemi(P,S,F):\n",
        "    \n",
        "    return 1- (kombinasyonHesapla(P-F,S)/kombinasyonHesapla(P,S))"
      ],
      "execution_count": 0,
      "outputs": []
    },
    {
      "cell_type": "code",
      "metadata": {
        "id": "cSkZfWnYXUBW",
        "colab_type": "code",
        "outputId": "47af90c2-1386-4497-aacb-b5af02408866",
        "colab": {
          "base_uri": "https://localhost:8080/",
          "height": 310
        }
      },
      "source": [
        "karsilasmaProblemi(P,S,F)"
      ],
      "execution_count": 5,
      "outputs": [
        {
          "output_type": "error",
          "ename": "RecursionError",
          "evalue": "ignored",
          "traceback": [
            "\u001b[0;31m---------------------------------------------------------------------------\u001b[0m",
            "\u001b[0;31mRecursionError\u001b[0m                            Traceback (most recent call last)",
            "\u001b[0;32m<ipython-input-5-8af97acc5d68>\u001b[0m in \u001b[0;36m<module>\u001b[0;34m()\u001b[0m\n\u001b[0;32m----> 1\u001b[0;31m \u001b[0mkarsilasmaProblemi\u001b[0m\u001b[0;34m(\u001b[0m\u001b[0mP\u001b[0m\u001b[0;34m,\u001b[0m\u001b[0mS\u001b[0m\u001b[0;34m,\u001b[0m\u001b[0mF\u001b[0m\u001b[0;34m)\u001b[0m\u001b[0;34m\u001b[0m\u001b[0;34m\u001b[0m\u001b[0m\n\u001b[0m",
            "\u001b[0;32m<ipython-input-4-c6ebc030159b>\u001b[0m in \u001b[0;36mkarsilasmaProblemi\u001b[0;34m(P, S, F)\u001b[0m\n\u001b[1;32m      1\u001b[0m \u001b[0;32mdef\u001b[0m \u001b[0mkarsilasmaProblemi\u001b[0m\u001b[0;34m(\u001b[0m\u001b[0mP\u001b[0m\u001b[0;34m,\u001b[0m\u001b[0mS\u001b[0m\u001b[0;34m,\u001b[0m\u001b[0mF\u001b[0m\u001b[0;34m)\u001b[0m\u001b[0;34m:\u001b[0m\u001b[0;34m\u001b[0m\u001b[0;34m\u001b[0m\u001b[0m\n\u001b[1;32m      2\u001b[0m \u001b[0;34m\u001b[0m\u001b[0m\n\u001b[0;32m----> 3\u001b[0;31m     \u001b[0;32mreturn\u001b[0m \u001b[0;36m1\u001b[0m\u001b[0;34m-\u001b[0m \u001b[0;34m(\u001b[0m\u001b[0mkombinasyonHesapla\u001b[0m\u001b[0;34m(\u001b[0m\u001b[0mP\u001b[0m\u001b[0;34m-\u001b[0m\u001b[0mF\u001b[0m\u001b[0;34m,\u001b[0m\u001b[0mS\u001b[0m\u001b[0;34m)\u001b[0m\u001b[0;34m/\u001b[0m\u001b[0mkombinasyonHesapla\u001b[0m\u001b[0;34m(\u001b[0m\u001b[0mP\u001b[0m\u001b[0;34m,\u001b[0m\u001b[0mS\u001b[0m\u001b[0;34m)\u001b[0m\u001b[0;34m)\u001b[0m\u001b[0;34m\u001b[0m\u001b[0;34m\u001b[0m\u001b[0m\n\u001b[0m",
            "\u001b[0;32m<ipython-input-3-a89adc1add34>\u001b[0m in \u001b[0;36mkombinasyonHesapla\u001b[0;34m(n, r)\u001b[0m\n\u001b[1;32m      4\u001b[0m         \u001b[0;32mreturn\u001b[0m \u001b[0;36m1\u001b[0m\u001b[0;34m\u001b[0m\u001b[0;34m\u001b[0m\u001b[0m\n\u001b[1;32m      5\u001b[0m     \u001b[0;32melse\u001b[0m\u001b[0;34m:\u001b[0m\u001b[0;34m\u001b[0m\u001b[0;34m\u001b[0m\u001b[0m\n\u001b[0;32m----> 6\u001b[0;31m         \u001b[0;32mreturn\u001b[0m \u001b[0mfaktoriyelHesapla\u001b[0m\u001b[0;34m(\u001b[0m\u001b[0mn\u001b[0m\u001b[0;34m)\u001b[0m \u001b[0;34m/\u001b[0m \u001b[0;34m(\u001b[0m\u001b[0mfaktoriyelHesapla\u001b[0m\u001b[0;34m(\u001b[0m\u001b[0mn\u001b[0m \u001b[0;34m-\u001b[0m \u001b[0mr\u001b[0m\u001b[0;34m)\u001b[0m \u001b[0;34m*\u001b[0m \u001b[0mfaktoriyelHesapla\u001b[0m\u001b[0;34m(\u001b[0m\u001b[0mr\u001b[0m\u001b[0;34m)\u001b[0m\u001b[0;34m)\u001b[0m\u001b[0;34m\u001b[0m\u001b[0;34m\u001b[0m\u001b[0m\n\u001b[0m",
            "\u001b[0;32m<ipython-input-2-915f446c5eaf>\u001b[0m in \u001b[0;36mfaktoriyelHesapla\u001b[0;34m(i)\u001b[0m\n\u001b[1;32m      5\u001b[0m \u001b[0;34m\u001b[0m\u001b[0m\n\u001b[1;32m      6\u001b[0m     \u001b[0;32melse\u001b[0m\u001b[0;34m:\u001b[0m\u001b[0;34m\u001b[0m\u001b[0;34m\u001b[0m\u001b[0m\n\u001b[0;32m----> 7\u001b[0;31m         \u001b[0;32mreturn\u001b[0m \u001b[0mi\u001b[0m \u001b[0;34m*\u001b[0m \u001b[0mfaktoriyelHesapla\u001b[0m\u001b[0;34m(\u001b[0m\u001b[0mi\u001b[0m\u001b[0;34m-\u001b[0m\u001b[0;36m1\u001b[0m\u001b[0;34m)\u001b[0m\u001b[0;34m\u001b[0m\u001b[0;34m\u001b[0m\u001b[0m\n\u001b[0m",
            "... last 1 frames repeated, from the frame below ...\n",
            "\u001b[0;32m<ipython-input-2-915f446c5eaf>\u001b[0m in \u001b[0;36mfaktoriyelHesapla\u001b[0;34m(i)\u001b[0m\n\u001b[1;32m      5\u001b[0m \u001b[0;34m\u001b[0m\u001b[0m\n\u001b[1;32m      6\u001b[0m     \u001b[0;32melse\u001b[0m\u001b[0;34m:\u001b[0m\u001b[0;34m\u001b[0m\u001b[0;34m\u001b[0m\u001b[0m\n\u001b[0;32m----> 7\u001b[0;31m         \u001b[0;32mreturn\u001b[0m \u001b[0mi\u001b[0m \u001b[0;34m*\u001b[0m \u001b[0mfaktoriyelHesapla\u001b[0m\u001b[0;34m(\u001b[0m\u001b[0mi\u001b[0m\u001b[0;34m-\u001b[0m\u001b[0;36m1\u001b[0m\u001b[0;34m)\u001b[0m\u001b[0;34m\u001b[0m\u001b[0;34m\u001b[0m\u001b[0m\n\u001b[0m",
            "\u001b[0;31mRecursionError\u001b[0m: maximum recursion depth exceeded in comparison"
          ]
        }
      ]
    },
    {
      "cell_type": "markdown",
      "metadata": {
        "id": "d4lZRSL0YLti",
        "colab_type": "text"
      },
      "source": [
        "Çok fazla rekürsif işlemi olduğu için optimize edilmiş kombinasyon hesaplama fonksiyonu yazmalıyız. O yüzden yeni bir fonksiyon oluşturuyorum."
      ]
    },
    {
      "cell_type": "code",
      "metadata": {
        "id": "FqYOdP37YXtJ",
        "colab_type": "code",
        "colab": {}
      },
      "source": [
        "def optimizedSolution(P,S,F):\n",
        "    \n",
        "    return 1 - ((P-F) / P)"
      ],
      "execution_count": 0,
      "outputs": []
    },
    {
      "cell_type": "markdown",
      "metadata": {
        "id": "qmjqnjbqZR3C",
        "colab_type": "text"
      },
      "source": [
        "Bu işlemin buna dönüşmesindeki neden şudur, kombinasyonu hesaplarken S=1 olduğu için işlemi sadeleştirerek yaptım bu normal şartlarda kombinasyon fonksiyonunu hesaplarken de eklenebilirdi."
      ]
    },
    {
      "cell_type": "code",
      "metadata": {
        "id": "1qz5L1TGZiZE",
        "colab_type": "code",
        "outputId": "e6829131-aad3-450e-8594-6f713c4984cf",
        "colab": {
          "base_uri": "https://localhost:8080/",
          "height": 34
        }
      },
      "source": [
        "optimizedSolution(P,S,F)"
      ],
      "execution_count": 7,
      "outputs": [
        {
          "output_type": "execute_result",
          "data": {
            "text/plain": [
              "0.0020000000000000018"
            ]
          },
          "metadata": {
            "tags": []
          },
          "execution_count": 7
        }
      ]
    },
    {
      "cell_type": "markdown",
      "metadata": {
        "id": "cJuK6B0_aLCL",
        "colab_type": "text"
      },
      "source": [
        "Çıkan sonuç yaklaşık olarak %0,002 olmuş oldu. Oldukça küçük bir oran.\n"
      ]
    }
  ]
}