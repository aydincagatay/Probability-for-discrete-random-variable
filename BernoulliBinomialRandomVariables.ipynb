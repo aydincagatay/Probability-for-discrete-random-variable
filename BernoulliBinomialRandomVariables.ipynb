{
  "nbformat": 4,
  "nbformat_minor": 0,
  "metadata": {
    "colab": {
      "name": "Untitled6.ipynb",
      "provenance": [],
      "toc_visible": true,
      "authorship_tag": "ABX9TyPBH1aQrZWEZY9t7V93WPR/",
      "include_colab_link": true
    },
    "kernelspec": {
      "name": "python3",
      "display_name": "Python 3"
    }
  },
  "cells": [
    {
      "cell_type": "markdown",
      "metadata": {
        "id": "view-in-github",
        "colab_type": "text"
      },
      "source": [
        "<a href=\"https://colab.research.google.com/github/aydincagatay/Probability-for-discrete-random-variable/blob/master/BernoulliBinomialRandomVariables.ipynb\" target=\"_parent\"><img src=\"https://colab.research.google.com/assets/colab-badge.svg\" alt=\"Open In Colab\"/></a>"
      ]
    },
    {
      "cell_type": "markdown",
      "metadata": {
        "id": "ZLIlWyzuNWyb",
        "colab_type": "text"
      },
      "source": [
        "# **Bernoulli dağılımı**\n",
        "\n",
        "\n",
        "Bernoulli dağılımı adını ünlü matematikçi Jakob Bernoulli'den(1654–1705) almıştır.\n",
        "\n",
        "Formülü şöyle ortaya çıkmıştır.\n",
        "\n",
        "x, P(x)\n",
        "\n",
        "1, p\n",
        "\n",
        "0, 1-p\n",
        "\n",
        "x=1 olduğu durum başarı\n",
        "x =0 olduğu durum başarısızlık\n",
        "X Bernoulli rastgele değişkeni \n",
        "p ise olasılıktır. \n",
        "\n",
        "P(1) =p P(0)=1-p\n",
        "\n",
        "E[X]=p\n",
        "\n",
        "V(X)=p(1-p).\n",
        "\n",
        "# Bernoulli Deneyinin Varsayımları: \n",
        "\n",
        "1.Deneyler aynı koşullarda tekrarlanabilirlik özelliğine sahip olmalıdır.\n",
        "\n",
        "2.Deneylerin yalnız iki mümkün sonucu olması gereklidir.\n",
        "\n",
        "3.Başarı olasılığı ( p ), deneyden deneye değişmemelidir.(Başarısızlık \n",
        "\n",
        "olasılığı q=1-p ile gösterilir)\n",
        "\n",
        "4.Denemeler birbirinden bağımsız olmalıdır.\n"
      ]
    },
    {
      "cell_type": "markdown",
      "metadata": {
        "id": "L_fCEKLCQiiO",
        "colab_type": "text"
      },
      "source": [
        "Örnek:Bir sporcunun yaptığı müsabakada kazanma olasılığı 0,8 kaybetme olasılığı ise 0,2 olarak verilmiştir.\n",
        "\n",
        "Sporcunun beklenen(ortalama)kazanma olasılığı ve varyansını bulunuz."
      ]
    },
    {
      "cell_type": "code",
      "metadata": {
        "id": "pAHwPWwNQ-uj",
        "colab_type": "code",
        "colab": {
          "base_uri": "https://localhost:8080/",
          "height": 33
        },
        "outputId": "45717290-426e-4ba3-e6e0-c2c6714f06f5"
      },
      "source": [
        "import math\n",
        "\n",
        "#definition\n",
        "\n",
        "p = 0.8 # sporcunun kazanma olasılığı \n",
        "\n",
        "q = 0.2 # sporcunun kaybetme olasılığı\n",
        "\n",
        "def variance(p):\n",
        "  return p*(1-p)\n",
        "\n",
        "print('Sporcunun beklenen(ortalama) kazanma olasılığı =',round(variance(p),2))"
      ],
      "execution_count": 4,
      "outputs": [
        {
          "output_type": "stream",
          "text": [
            "Sporcunun beklenen(ortalama) kazanma olasılığı = 0.16\n"
          ],
          "name": "stdout"
        }
      ]
    },
    {
      "cell_type": "markdown",
      "metadata": {
        "id": "o1W8-kv-Wkta",
        "colab_type": "text"
      },
      "source": [
        "# **Binomial dağılımı**\n",
        "\n",
        "Bernoulli dağılımında deney bir kez yapılıyor ve olumlu veya başarılı sonuçla ilgileniyordu. Eğer deney bir defa değil, n defa peş peşe birbirinden bağımsız olmak üzere tekrarlandığında yine olumlu veya başarılı sonuçla ilgileniyorsa, Bernoulli dağılımının özel bir genel hali ilgileniyorsa, Bernoulli dağılımının özel bir genel hali ortaya çıkar ve bu dağılıma Binom dağılımı denir.\n"
      ]
    },
    {
      "cell_type": "markdown",
      "metadata": {
        "id": "gCia4YGPXP3o",
        "colab_type": "text"
      },
      "source": [
        "Örnek\n",
        "\n",
        "Bir öğrencinin fen lisesine gitme olasılığı 0.3'tür. Eğer aynı ortaokuldan 5 öğrenci liseye kayıt yaptıracaksa en fazla 2'sinin fen lisesine girme olasılığı nedir?"
      ]
    },
    {
      "cell_type": "code",
      "metadata": {
        "id": "R4p5EzzcZqmt",
        "colab_type": "code",
        "colab": {}
      },
      "source": [
        "def faktoriyelHesapla(i):\n",
        "    \n",
        "    if i==1 or i == 0:       \n",
        "        return 1\n",
        "    else: \n",
        "        return i * faktoriyelHesapla(i-1)"
      ],
      "execution_count": 0,
      "outputs": []
    },
    {
      "cell_type": "code",
      "metadata": {
        "id": "zXIqMjwOZ72p",
        "colab_type": "code",
        "colab": {}
      },
      "source": [
        "def binomial(x,n,P):\n",
        "  return (faktoriyelHesapla(n) / (faktoriyelHesapla(x) * (faktoriyelHesapla(n-x)))) * pow(P , x) * pow((1-P) , n-x) "
      ],
      "execution_count": 0,
      "outputs": []
    },
    {
      "cell_type": "code",
      "metadata": {
        "id": "w4tVZ-fNaiNn",
        "colab_type": "code",
        "colab": {
          "base_uri": "https://localhost:8080/",
          "height": 33
        },
        "outputId": "74ee66f1-e095-4457-8a15-17e19775d431"
      },
      "source": [
        "#definition\n",
        "import sys\n",
        " \n",
        "n = 5 #tekrarlama sayısı\n",
        "P = 0.3 #fen lisesine gitme olasılığı\n",
        "sonuc=0\n",
        "for x in range(0, 3):\n",
        "      sonuc = sonuc +(binomial(x , n, P))\n",
        "print('Aynı ortaokuldan 5 öğrenciden en fazla 2 sinin fen lisesine girme olasılığı = ',round(sonuc,4))"
      ],
      "execution_count": 37,
      "outputs": [
        {
          "output_type": "stream",
          "text": [
            "Aynı ortaokuldan 5 öğrenciden en fazla 2 sinin fen lisesine girme olasılığı =  0.8369\n"
          ],
          "name": "stdout"
        }
      ]
    },
    {
      "cell_type": "markdown",
      "metadata": {
        "id": "UDkmoRV5heMV",
        "colab_type": "text"
      },
      "source": [
        "Yapılan işlemler;\n",
        "\n",
        "b(x < 2; 5, 0.3) = b(x = 0; 5, 0.3) + b(x = 1; 5, 0.3) + b(x = 2; 5, 0.3)\n",
        "\n",
        "b(x < 2; 5, 0.3) = 0.1681 + 0.3601 + 0.3087\n",
        "\n",
        "b(x < 2; 5, 0.3) = 0.8369"
      ]
    }
  ]
}