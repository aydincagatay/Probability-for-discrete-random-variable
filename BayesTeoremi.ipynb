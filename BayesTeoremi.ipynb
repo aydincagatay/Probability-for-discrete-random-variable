{
  "nbformat": 4,
  "nbformat_minor": 0,
  "metadata": {
    "kernelspec": {
      "display_name": "Python 3",
      "language": "python",
      "name": "python3"
    },
    "language_info": {
      "codemirror_mode": {
        "name": "ipython",
        "version": 3
      },
      "file_extension": ".py",
      "mimetype": "text/x-python",
      "name": "python",
      "nbconvert_exporter": "python",
      "pygments_lexer": "ipython3",
      "version": "3.7.3"
    },
    "toc": {
      "base_numbering": 1,
      "nav_menu": {},
      "number_sections": true,
      "sideBar": true,
      "skip_h1_title": false,
      "title_cell": "Table of Contents",
      "title_sidebar": "Contents",
      "toc_cell": false,
      "toc_position": {},
      "toc_section_display": true,
      "toc_window_display": false
    },
    "colab": {
      "name": "index.ipynb",
      "provenance": [],
      "include_colab_link": true
    }
  },
  "cells": [
    {
      "cell_type": "markdown",
      "metadata": {
        "id": "view-in-github",
        "colab_type": "text"
      },
      "source": [
        "<a href=\"https://colab.research.google.com/github/aydincagatay/Probability-for-discrete-random-variable/blob/master/BayesTeoremi.ipynb\" target=\"_parent\"><img src=\"https://colab.research.google.com/assets/colab-badge.svg\" alt=\"Open In Colab\"/></a>"
      ]
    },
    {
      "cell_type": "markdown",
      "metadata": {
        "id": "hsTLQLKhc46u",
        "colab_type": "text"
      },
      "source": [
        "# Bayes' Teoremi\n",
        "\n",
        "## Giriş\n",
        "\n",
        "\n",
        "Bayes teoremi, bilinmeyen olasılıkları tümdengelimsel olarak ölçmenizi sağlayan  olasılık yasasıdır. Bayes Teoremi, koşullu olasılık üzerine kuruludur.\n",
        "\n",
        "## Thomas Bayes\n",
        "\n",
        "Bayes teoremi adını 1700'lü tarihlerde doğmuş olan İngiliz olasılıkçı Thomas Bayes'ten almaktadır. Bayes'in ailesi İngiltere'nin önemli Presbiteryen ailelerinden biriydi. 1719 yılında değişim kilisesine mensup olanların gidebildiği, Cambridge ve Oxford o dönemde Presbiteryenlere açık olmadığından, Edinburgh Üniversitesi'nde presbiteryen vaizliği eğitimi almaya başlamıştır.  Edinburgh Üniversitesi'nde okumuştur. Hayatta iken yazdığı notlar ölümünden sonra Richard Price tarafından derlenerek yayınlanmıştır.\n",
        "\n",
        "## Amaç\n",
        "\n",
        "Bu makalenin içerdikleri:\n",
        "\n",
        "* Bayes teoremini koşullu olasılıklarla ilişkili olarak tanımı \n",
        "* Bayes teoremini uygulamalı örnekleri\n",
        "\n",
        "## Bayes' Formülü\n",
        "\n",
        "# $P(A|B) = \\dfrac{P(B|A)P(A)}{P(B)}$\n",
        "\n",
        "\n",
        "Bayes teoremi oldukça sezgiseldir ve her iki olayın da gerçekleşme olasılığı açısından A'ya bağlı B'nin koşullu olasılığı ayrıştırılarak B'nin doğru olma olasılığına bölünür. Bayes teoremi, bu doğal fikri bir adım ileriye taşıyarak, her iki olayın koşulun kendisiyle çarpımının koşullu bir olasılık olarak doğru olma olasılığını ifade eder.\n",
        "\n",
        "Özetlemek gerekirse:\n",
        "\n",
        "Bayes Teoremi, koşullu olasılıktan gelir.\n",
        "\n",
        "### $P(A|B) = \\dfrac{P(A \\cap B)}{P(B)}$\n",
        "\n",
        "$P(A \\cap B)$ ' yi \n",
        "\n",
        "$P(B|A)P(A)$, \n",
        "\n",
        "olarak yazarsak formülümüz şuna dönüşür;\n",
        "\n",
        "\n",
        "### $P(A|B) = \\dfrac{P(B|A)P(A)}{P(B)}$\n",
        "\n",
        "\n",
        "## Basit bir örnek\n",
        "\n",
        "İki tane akvaryum olduğunu varsayalım. Küçük akvaryum, 10 tane palyaço balığı kapasitesine sahip olsun. Büyük akvaryum ise has 200 japon balığı ve 35 palyaço balığı kapasitesine sahip olsun. Verilen bilgiler dahilinde seçilen bir palyaço balığının küçük akvaryumdan seçilmesi olasılığı nedir? \n",
        "\n",
        "Aslında büyük akvaryum hem kapasite olarak daha hem de balık sayısı olarak küçük akvaryumdan fazla olduğu için balığın büyük olandan seçilmiş olma olasılığı daha fazladır.\n",
        "\n",
        "Bayes teoremi kullanıldığında, bir balığın küçük akvaryumdan gelen bir balık olmas olasılığını, given that it is a Betta fish:\n",
        "\n",
        "$P(\\text{kucuk_akvaryum | palyaco_baligi}) = \\dfrac{P(\\text{palyaco_baligi | kucuk_akvaryum})P(\\text{kucuk_akvaryum})}{P(\\text{palyaco_baligi})}$  \n",
        " \n",
        "$P(\\text{palyaco_baligi | kucuk_akvaryum}) = 1$  \n",
        "$P(\\text{kucuk_akvaryum}) = \\dfrac{\\text{kucuk akvaryumdaki balik sayisi}}{\\text{butun baliklarin sayisi}} = \\dfrac{10}{245}$  \n",
        "$P(\\text{palyaco_baligi}) = \\dfrac{45}{245}$\n",
        "\n",
        "\n",
        "\n",
        "Bayes Teoremi uygulandığı zaman:\n",
        "\n",
        "\n",
        "$P(\\text{kucuk_akvaryum | palyaco_baligi}) = \\dfrac{1 \\cdot \\dfrac{10}{245}}{\\dfrac{45}{245}}$  \n",
        "\n",
        "$ P(\\text{kucuk_akvaryum | palyaco_baligi}) = \\dfrac{10}{45}$  \n",
        "\n",
        "Bu örnek, tüm temel bilgilere sahip olduğunuzdan Bayes teoremi uygulanmadan da çözülebilir. Küçük tanktaki palyaço balıklarının sayısına karşı genel olarak palyaço balıklarının sayısına bakmak yine aynı sonuca götürecektir.: \n",
        "\n",
        "$\\dfrac{10}{45}$  \n",
        "\n",
        "\n",
        "## Başka bir örnek: NLP Örneği\n",
        "\n",
        "Bayes teoremi spam mesajların sınıflandırılmasında doğal bir metod olarak kullanılabilir. Mesela \"teklif\" kelimesini ele alalım örneğin: (Size özel teklifimiz, Size bir teklifimiz var, Bu teklifi kaçırmayın!). Bu şekilde ulaşmış mesajların %73'ü spam etiketli olsun. %10 'u ise almak istediğimiz türden \"teklif\" kelimesini içeren mailler olsun. Eğer aldığımız tüm maillerin %20'si spam ise, yeni gelen bir mailin \"teklif\" kelimesini içerdiğinde spam olma olasılığı nedir?\n",
        "\n",
        "$P(\\text{Spam | Teklif}) = \\dfrac{P(\\text{Teklif | Spam})P(\\text{Spam})}{P(\\text{Teklif})}$\n",
        "\n",
        "$P(\\text{Spam | Teklif}) = \\dfrac{0.73 \\cdot 0.20}{P(\\text{Teklif})}$  \n",
        "$P(\\text{Teklif}) = P(\\text{Spam})\\cdot P(\\text{Teklif | Spam}) + P(\\text{Spam')} \\cdot P(\\text{Teklif | Spam'})$  \n",
        "$P(\\text{Teklif}) = 0.20 \\cdot 0.73 + 0.8 \\cdot 0.10$  \n",
        "$P(\\text{Teklif}) = 0.146 + 0.08$  \n",
        "$P(\\text{Teklif}) = 0.226$  \n",
        "\n",
        "Son olarak bulduğumuz değerleri yerine yazarsak;\n",
        "\n",
        "$P(\\text{Spam | Teklif}) = \\dfrac{0.73 \\cdot 0.20}{0.226}$  \n",
        "$P(\\text{Spam | Teklif}) = 0.6460$  \n",
        "\n",
        "Görüldüğü gibi \"Teklif\" kelimesinin geçtiği bir mailin spam olma olasılığı %64.6 çıkmış olur. Yukarda problemin aksine bu problemin çözümü için Bayes teoremini kullanmak işimizi kolaylaştırmıştır.\n",
        "\n",
        "Eğer bu problem için Bayes Teoreminin kodunu yazacak olsaydık:\n",
        "\n",
        "Öncelikle verilen olasılıksal değerlerin ilk değer atamalarını yapacak olursak:"
      ]
    },
    {
      "cell_type": "code",
      "metadata": {
        "id": "5t3FVRAZ-gkg",
        "colab_type": "code",
        "colab": {}
      },
      "source": [
        "import math\n",
        "Pteklif_spam = 0.73\n",
        "Pspam = 0.2\n",
        "Pteklif_notspam = 0.1"
      ],
      "execution_count": 0,
      "outputs": []
    },
    {
      "cell_type": "code",
      "metadata": {
        "id": "iyh8sFBS_yHC",
        "colab_type": "code",
        "colab": {}
      },
      "source": [
        "def CalculateBayes(P1,P2,P3):\n",
        "    return (P1 * P2) / ((P1 * P2) + ((1-P2)* P3))"
      ],
      "execution_count": 0,
      "outputs": []
    },
    {
      "cell_type": "code",
      "metadata": {
        "id": "ixRRwKvrAWiF",
        "colab_type": "code",
        "colab": {
          "base_uri": "https://localhost:8080/",
          "height": 34
        },
        "outputId": "97a2ae87-9542-4ead-c184-ecc4e4e5dc02"
      },
      "source": [
        "print(CalculateBayes(Pteklif_spam,Pspam,Pteklif_notspam))"
      ],
      "execution_count": 4,
      "outputs": [
        {
          "output_type": "stream",
          "text": [
            "0.6460176991150441\n"
          ],
          "name": "stdout"
        }
      ]
    }
  ]
}