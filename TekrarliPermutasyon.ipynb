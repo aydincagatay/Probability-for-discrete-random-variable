{
  "nbformat": 4,
  "nbformat_minor": 0,
  "metadata": {
    "colab": {
      "name": "Untitled3.ipynb",
      "provenance": [],
      "toc_visible": true,
      "authorship_tag": "ABX9TyMo00+EVbuRunuoGV/a7U7d",
      "include_colab_link": true
    },
    "kernelspec": {
      "name": "python3",
      "display_name": "Python 3"
    }
  },
  "cells": [
    {
      "cell_type": "markdown",
      "metadata": {
        "id": "view-in-github",
        "colab_type": "text"
      },
      "source": [
        "<a href=\"https://colab.research.google.com/github/aydincagatay/Probability-for-discrete-random-variable/blob/master/TekrarliPermutasyon.ipynb\" target=\"_parent\"><img src=\"https://colab.research.google.com/assets/colab-badge.svg\" alt=\"Open In Colab\"/></a>"
      ]
    },
    {
      "cell_type": "code",
      "metadata": {
        "id": "0nibX3S5LgpD",
        "colab_type": "code",
        "colab": {}
      },
      "source": [
        ""
      ],
      "execution_count": 0,
      "outputs": []
    },
    {
      "cell_type": "markdown",
      "metadata": {
        "id": "rOySgm1SLlzO",
        "colab_type": "text"
      },
      "source": [
        "# **PYTHON İLE TEKRARLI PERMÜTASYON ÖRNEĞİ**\n",
        "Soru:\n",
        "\n",
        "![alt text](https://github.com/aydincagatay/Probability-for-discrete-random-variable/blob/master/images/tp1.png?raw=true)\n",
        "\n",
        "A'dan B'ye gidilebilecek en kısa kaç yol vardır?\n",
        "\n",
        "Çözüm:\n",
        "Bu soruda A noktasından başlayacaksak en kısa yol için bütün yolları şu şekilde düşünebiliriz: Sağa ve sağ alta. Zaten sola alta gitmeye gerek yoktur. \n",
        "\n",
        "\n",
        "4 kere sağ alta 2 kere sağa gitmeyi A'dan B'ye giderkenki en kısa mesafe olarak tanımlayabiliriz.\n",
        "Örneğin sağa alta gitmek için X'i, sağa gitmek için Y değişkenlerini tayin edelim.\n",
        "\n",
        "Yollar şu şekilde sıralabilir.\n",
        "XXXXYY\n",
        "XXXYYX\n",
        ".\n",
        ".\n",
        ".\n",
        "YYXXXX\n",
        "\n",
        "Tekrarlı permütasyon olmasını sağlayan kısıtın X ve Y'lerin tekrar etmesi olduğunu görmekteyiz.\n",
        "\n",
        "O zaman cevap şu şekilde olur. (4+2)! / (4!.2!) = 15"
      ]
    },
    {
      "cell_type": "code",
      "metadata": {
        "id": "Na_1lrBoTW8I",
        "colab_type": "code",
        "colab": {}
      },
      "source": [
        "def faktoriyelHesapla(i):\n",
        "    \n",
        "    if i==1:       \n",
        "        return 1\n",
        "    \n",
        "    else: \n",
        "        return i * faktoriyelHesapla(i-1)\n",
        "    "
      ],
      "execution_count": 0,
      "outputs": []
    },
    {
      "cell_type": "code",
      "metadata": {
        "id": "X8zAmvTmTkNm",
        "colab_type": "code",
        "colab": {
          "base_uri": "https://localhost:8080/",
          "height": 34
        },
        "outputId": "45191a19-7a8c-47fd-b434-3438db346847"
      },
      "source": [
        "X = 4\n",
        "Y = 2\n",
        "\n",
        "sonuc = faktoriyelHesapla(X + Y) / (faktoriyelHesapla(X) * faktoriyelHesapla(Y))\n",
        "print(\"Gidilebilecek en kısa yolların sayısı = \",sonuc)"
      ],
      "execution_count": 6,
      "outputs": [
        {
          "output_type": "stream",
          "text": [
            "Gidilebilecek en kısa yolların sayısı =  15.0\n"
          ],
          "name": "stdout"
        }
      ]
    },
    {
      "cell_type": "markdown",
      "metadata": {
        "id": "6sj3pT5UUMgu",
        "colab_type": "text"
      },
      "source": [
        "Soruda şöyle bir değişiklik yaparsak;\n",
        "\n",
        "![alt text](https://github.com/aydincagatay/Probability-for-discrete-random-variable/blob/master/images/tp2.png?raw=true)\n",
        "\n",
        "\n",
        "\n",
        "Eğer işaretlenen  yerden geçiş yapmak kısıtlanırsa o zaman geçilebilecek en kısa yol sayısı ne olur ?\n",
        "\n",
        "\n",
        "\n",
        "Çözüm:\n",
        "\n",
        "![alt text](https://github.com/aydincagatay/Probability-for-discrete-random-variable/blob/master/images/tp3.png?raw=true)\n",
        "\n",
        "\n",
        "Eğer Tüm durumlardan;\n",
        "\n",
        "A'dan C'ye gidilen yollar ve D'den B'ye gidilen yollar çıkarılırsa çözüm elde edilir.\n",
        "\n",
        "\n",
        "Tüm durumları zaten bulmuştuk (15)\n",
        "\n",
        "\n",
        "O zaman\n",
        "\n",
        "\n",
        " A'dan C'ye (1 + 1)! / (1! * 1!) \n",
        "\n",
        "\n",
        "ile\n",
        "\n",
        "\n",
        " D'den B'ye (2 + 1)! / (2! * 1*)\n",
        "\n",
        " \n",
        "sonuçlarını çarpıp tüm durumlardan çıkarırsak sonucu elde etmiş oluruz. \n"
      ]
    },
    {
      "cell_type": "code",
      "metadata": {
        "id": "WkrdItY-XOAU",
        "colab_type": "code",
        "colab": {
          "base_uri": "https://localhost:8080/",
          "height": 34
        },
        "outputId": "f6a45299-6b26-4395-d33f-62c39184ced8"
      },
      "source": [
        "XAC = 1\n",
        "YAC = 1\n",
        "\n",
        "XDB = 1\n",
        "YDB = 2\n",
        "\n",
        "AC = faktoriyelHesapla(XAC + YAC) / (faktoriyelHesapla(XAC) * faktoriyelHesapla(YAC))\n",
        "DB =faktoriyelHesapla(XDB + YDB) / (faktoriyelHesapla(XDB) * faktoriyelHesapla(YDB))\n",
        "print(\"Gidilebilecek en kısa yolların sayısı = \",sonuc - (AC * DB))"
      ],
      "execution_count": 7,
      "outputs": [
        {
          "output_type": "stream",
          "text": [
            "Gidilebilecek en kısa yolların sayısı =  9.0\n"
          ],
          "name": "stdout"
        }
      ]
    }
  ]
}
